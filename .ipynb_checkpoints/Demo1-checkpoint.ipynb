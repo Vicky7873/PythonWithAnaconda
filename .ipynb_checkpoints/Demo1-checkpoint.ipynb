{
 "cells": [
  {
   "cell_type": "markdown",
   "id": "b0ddaf0b",
   "metadata": {},
   "source": [
    "# I Have started the Python\n",
    "if you want to create the heading select the heading and then press  shift+enter\n",
    "to see the default options press tab"
   ]
  },
  {
   "cell_type": "code",
   "execution_count": 28,
   "id": "ae6a2d44",
   "metadata": {
    "scrolled": true
   },
   "outputs": [
    {
     "name": "stdout",
     "output_type": "stream",
     "text": [
      "Hello first python program\n"
     ]
    }
   ],
   "source": [
    "print(\"Hello first python program\")"
   ]
  },
  {
   "cell_type": "code",
   "execution_count": 29,
   "id": "173bba1e",
   "metadata": {},
   "outputs": [
    {
     "name": "stdout",
     "output_type": "stream",
     "text": [
      "False\n",
      "False\n",
      "False\n"
     ]
    }
   ],
   "source": [
    "my_str=\"Bhiki Pallai\"\n",
    "print(my_str.isalnum())\n",
    "print(my_str.endswith('b'))\n",
    "print(my_str.isdigit())"
   ]
  },
  {
   "cell_type": "code",
   "execution_count": 30,
   "id": "02021a32",
   "metadata": {},
   "outputs": [
    {
     "data": {
      "text/plain": [
       "list"
      ]
     },
     "execution_count": 30,
     "metadata": {},
     "output_type": "execute_result"
    }
   ],
   "source": [
    "lit=[]\n",
    "type(lit)"
   ]
  },
  {
   "cell_type": "code",
   "execution_count": 31,
   "id": "320fe47b",
   "metadata": {},
   "outputs": [
    {
     "name": "stdout",
     "output_type": "stream",
     "text": [
      "[1, 2, 3, 4, 5]\n",
      "[1, 2, 3, 4, 5, ['bhiki', 10]]\n",
      "[1, 2, 3, 4, 5]\n"
     ]
    },
    {
     "data": {
      "text/plain": [
       "15"
      ]
     },
     "execution_count": 31,
     "metadata": {},
     "output_type": "execute_result"
    }
   ],
   "source": [
    "l=[1,2,3,4]\n",
    "l.append(5)\n",
    "print(l)\n",
    "l.append(['bhiki',10])\n",
    "print(l)\n",
    "l.pop()\n",
    "print(l)\n",
    "sum(l)\n",
    "# l.count(2) count the 2 in the list"
   ]
  },
  {
   "cell_type": "code",
   "execution_count": 32,
   "id": "6ffef5a5",
   "metadata": {},
   "outputs": [
    {
     "name": "stdout",
     "output_type": "stream",
     "text": [
      "1\n",
      "4\n"
     ]
    }
   ],
   "source": [
    "l=[1,2,3,4]\n",
    "l.index(1,0,3)\n",
    "print(min(l))\n",
    "print(max(l))\n",
    "# here 1 is value 0,3 is inicating the index"
   ]
  },
  {
   "cell_type": "code",
   "execution_count": 33,
   "id": "7971aff0",
   "metadata": {},
   "outputs": [],
   "source": [
    "l=[1,2,3,4]\n"
   ]
  },
  {
   "cell_type": "markdown",
   "id": "959f8e74",
   "metadata": {},
   "source": [
    "# Set and tuples And Dictionary"
   ]
  },
  {
   "cell_type": "code",
   "execution_count": 35,
   "id": "2fc50821",
   "metadata": {},
   "outputs": [
    {
     "name": "stdout",
     "output_type": "stream",
     "text": [
      "<class 'set'>\n"
     ]
    }
   ],
   "source": [
    "setVar=set()\n",
    "print(type(setVar))"
   ]
  },
  {
   "cell_type": "code",
   "execution_count": 37,
   "id": "44014160",
   "metadata": {},
   "outputs": [
    {
     "name": "stdout",
     "output_type": "stream",
     "text": [
      "{1, 2, 3, 4}\n"
     ]
    },
    {
     "ename": "TypeError",
     "evalue": "'set' object is not subscriptable",
     "output_type": "error",
     "traceback": [
      "\u001b[1;31m---------------------------------------------------------------------------\u001b[0m",
      "\u001b[1;31mTypeError\u001b[0m                                 Traceback (most recent call last)",
      "\u001b[1;32m~\\AppData\\Local\\Temp\\ipykernel_11764\\3505064933.py\u001b[0m in \u001b[0;36m<module>\u001b[1;34m\u001b[0m\n\u001b[0;32m      1\u001b[0m \u001b[0msetVar\u001b[0m\u001b[1;33m=\u001b[0m\u001b[1;33m{\u001b[0m\u001b[1;36m1\u001b[0m\u001b[1;33m,\u001b[0m\u001b[1;36m1\u001b[0m\u001b[1;33m,\u001b[0m\u001b[1;36m2\u001b[0m\u001b[1;33m,\u001b[0m\u001b[1;36m3\u001b[0m\u001b[1;33m,\u001b[0m\u001b[1;36m4\u001b[0m\u001b[1;33m}\u001b[0m\u001b[1;33m\u001b[0m\u001b[1;33m\u001b[0m\u001b[0m\n\u001b[0;32m      2\u001b[0m \u001b[0mprint\u001b[0m\u001b[1;33m(\u001b[0m\u001b[0msetVar\u001b[0m\u001b[1;33m)\u001b[0m\u001b[1;33m\u001b[0m\u001b[1;33m\u001b[0m\u001b[0m\n\u001b[1;32m----> 3\u001b[1;33m \u001b[0msetVar\u001b[0m\u001b[1;33m[\u001b[0m\u001b[1;36m0\u001b[0m\u001b[1;33m]\u001b[0m\u001b[1;33m\u001b[0m\u001b[1;33m\u001b[0m\u001b[0m\n\u001b[0m",
      "\u001b[1;31mTypeError\u001b[0m: 'set' object is not subscriptable"
     ]
    }
   ],
   "source": [
    "setVar={1,1,2,3,4}\n",
    "print(setVar)\n",
    "# setVar[0] can not add idexing"
   ]
  },
  {
   "cell_type": "code",
   "execution_count": 39,
   "id": "0ddea22e",
   "metadata": {},
   "outputs": [
    {
     "data": {
      "text/plain": [
       "{1, 2, 3, 4}"
      ]
     },
     "execution_count": 39,
     "metadata": {},
     "output_type": "execute_result"
    }
   ],
   "source": [
    "setVar={1,1,2,3,4}\n",
    "setVar1={1,2,3,4,5}\n",
    "setVar.intersection(setVar1)"
   ]
  },
  {
   "cell_type": "code",
   "execution_count": 53,
   "id": "86abd779",
   "metadata": {},
   "outputs": [
    {
     "data": {
      "text/plain": [
       "{5}"
      ]
     },
     "execution_count": 53,
     "metadata": {},
     "output_type": "execute_result"
    }
   ],
   "source": [
    "setVar={1,1,2,3,4}\n",
    "setVar1={1,2,3,4,5}\n",
    "setVar1.difference(setVar)"
   ]
  },
  {
   "cell_type": "markdown",
   "id": "d8ac512a",
   "metadata": {},
   "source": [
    "# dictionaries "
   ]
  },
  {
   "cell_type": "code",
   "execution_count": 55,
   "id": "b64b3a22",
   "metadata": {},
   "outputs": [
    {
     "name": "stdout",
     "output_type": "stream",
     "text": [
      "{'car1': 'Rolce Royce', 'car2': 'BMW', 'car3': 'Audi'}\n",
      "<class 'dict'>\n"
     ]
    }
   ],
   "source": [
    "my_car={'car1':'Rolce Royce','car2':'BMW','car3':'Audi'}\n",
    "print(my_car)\n",
    "print(type(my_car))"
   ]
  },
  {
   "cell_type": "code",
   "execution_count": 57,
   "id": "7eb12a4e",
   "metadata": {},
   "outputs": [
    {
     "data": {
      "text/plain": [
       "'Audi'"
      ]
     },
     "execution_count": 57,
     "metadata": {},
     "output_type": "execute_result"
    }
   ],
   "source": [
    "my_car['car3']\n",
    "# this is how indexing work"
   ]
  },
  {
   "cell_type": "code",
   "execution_count": 61,
   "id": "c7415eb7",
   "metadata": {},
   "outputs": [
    {
     "name": "stdout",
     "output_type": "stream",
     "text": [
      "car1\n",
      "car2\n",
      "car3\n"
     ]
    }
   ],
   "source": [
    "# get the keys from dictionary\n",
    "for i in my_car:\n",
    "    print(i)"
   ]
  },
  {
   "cell_type": "code",
   "execution_count": 63,
   "id": "77c1db1b",
   "metadata": {},
   "outputs": [
    {
     "name": "stdout",
     "output_type": "stream",
     "text": [
      "('car1', 'Rolce Royce')\n",
      "('car2', 'BMW')\n",
      "('car3', 'Audi')\n"
     ]
    }
   ],
   "source": [
    "# get the car items in key value pair\n",
    "for i in my_car.items():\n",
    "    print(i)"
   ]
  },
  {
   "cell_type": "code",
   "execution_count": 64,
   "id": "d57b918e",
   "metadata": {},
   "outputs": [
    {
     "name": "stdout",
     "output_type": "stream",
     "text": [
      "Rolce Royce\n",
      "BMW\n",
      "Audi\n"
     ]
    }
   ],
   "source": [
    "# get the values from the dictonaries\n",
    "for b in my_car.values():\n",
    "    print(b)"
   ]
  },
  {
   "cell_type": "code",
   "execution_count": 66,
   "id": "bedc05b7",
   "metadata": {},
   "outputs": [
    {
     "data": {
      "text/plain": [
       "{'car1': 'Rolce Royce', 'car2': 'BMW', 'car3': 'Audi', 'car4': 'ferrari'}"
      ]
     },
     "execution_count": 66,
     "metadata": {},
     "output_type": "execute_result"
    }
   ],
   "source": [
    "# add the values in car\n",
    "my_car['car4']='ferrari'\n",
    "my_car"
   ]
  },
  {
   "cell_type": "code",
   "execution_count": null,
   "id": "8802b41d",
   "metadata": {},
   "outputs": [],
   "source": [
    "# replacing the values\n",
    "my_car['car2']='Audi'\n",
    "my_car"
   ]
  },
  {
   "cell_type": "markdown",
   "id": "ddef6b00",
   "metadata": {},
   "source": [
    "# Nested Dictionaries"
   ]
  },
  {
   "cell_type": "code",
   "execution_count": 68,
   "id": "b86dd79f",
   "metadata": {},
   "outputs": [
    {
     "data": {
      "text/plain": [
       "{'car1': {'Audi': 1960}, 'car2': {'BMW': 2022}, 'car3': {'RolceRoyce': 2030}}"
      ]
     },
     "execution_count": 68,
     "metadata": {},
     "output_type": "execute_result"
    }
   ],
   "source": [
    "Mycar1={'Audi':1960}\n",
    "Mycar2={'BMW':2022}\n",
    "Mycar3={'RolceRoyce':2030}\n",
    "mydict={'car1':Mycar1,'car2':Mycar2,'car3':Mycar3}\n",
    "mydict"
   ]
  },
  {
   "cell_type": "code",
   "execution_count": 71,
   "id": "6a2f1f3a",
   "metadata": {},
   "outputs": [
    {
     "data": {
      "text/plain": [
       "1960"
      ]
     },
     "execution_count": 71,
     "metadata": {},
     "output_type": "execute_result"
    }
   ],
   "source": [
    "# get the value from nested dictionaries\n",
    "mydict['car1']"
   ]
  },
  {
   "cell_type": "code",
   "execution_count": 72,
   "id": "2d7697ad",
   "metadata": {},
   "outputs": [
    {
     "data": {
      "text/plain": [
       "1960"
      ]
     },
     "execution_count": 72,
     "metadata": {},
     "output_type": "execute_result"
    }
   ],
   "source": [
    "mydict['car1']['Audi']"
   ]
  },
  {
   "cell_type": "code",
   "execution_count": 73,
   "id": "79f2cb4e",
   "metadata": {},
   "outputs": [
    {
     "data": {
      "text/plain": [
       "{'car1': {'Audi': 1980}, 'car2': {'BMW': 2022}, 'car3': {'RolceRoyce': 2030}}"
      ]
     },
     "execution_count": 73,
     "metadata": {},
     "output_type": "execute_result"
    }
   ],
   "source": [
    "# manipulate the value of nested dictionaries\n",
    "mydict['car1']['Audi']=1980\n",
    "mydict"
   ]
  },
  {
   "cell_type": "markdown",
   "id": "95c58cf7",
   "metadata": {},
   "source": [
    "# Tuples\n",
    "start with ()"
   ]
  },
  {
   "cell_type": "code",
   "execution_count": 74,
   "id": "c5149f9e",
   "metadata": {},
   "outputs": [
    {
     "data": {
      "text/plain": [
       "('apple', 'banana', 'cherry')"
      ]
     },
     "execution_count": 74,
     "metadata": {},
     "output_type": "execute_result"
    }
   ],
   "source": [
    "tuple1 = (\"apple\", \"banana\", \"cherry\")\n",
    "tuple1"
   ]
  },
  {
   "cell_type": "code",
   "execution_count": 75,
   "id": "1b43a770",
   "metadata": {},
   "outputs": [
    {
     "data": {
      "text/plain": [
       "'apple'"
      ]
     },
     "execution_count": 75,
     "metadata": {},
     "output_type": "execute_result"
    }
   ],
   "source": [
    "# put the indexing values\n",
    "tuple1[0]"
   ]
  },
  {
   "cell_type": "code",
   "execution_count": 77,
   "id": "fdcbfa8f",
   "metadata": {},
   "outputs": [
    {
     "data": {
      "text/plain": [
       "0"
      ]
     },
     "execution_count": 77,
     "metadata": {},
     "output_type": "execute_result"
    }
   ],
   "source": [
    "tuple1.index('apple')"
   ]
  },
  {
   "cell_type": "code",
   "execution_count": 78,
   "id": "e375adf4",
   "metadata": {},
   "outputs": [
    {
     "data": {
      "text/plain": [
       "1"
      ]
     },
     "execution_count": 78,
     "metadata": {},
     "output_type": "execute_result"
    }
   ],
   "source": [
    "tuple1.count('apple')"
   ]
  }
 ],
 "metadata": {
  "kernelspec": {
   "display_name": "Python 3 (ipykernel)",
   "language": "python",
   "name": "python3"
  },
  "language_info": {
   "codemirror_mode": {
    "name": "ipython",
    "version": 3
   },
   "file_extension": ".py",
   "mimetype": "text/x-python",
   "name": "python",
   "nbconvert_exporter": "python",
   "pygments_lexer": "ipython3",
   "version": "3.9.13"
  }
 },
 "nbformat": 4,
 "nbformat_minor": 5
}
